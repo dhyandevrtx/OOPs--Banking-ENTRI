{
 "cells": [
  {
   "cell_type": "code",
   "execution_count": 5,
   "id": "2143fd5a-2ec2-42df-a7fc-da9fa0652b02",
   "metadata": {},
   "outputs": [
    {
     "name": "stdout",
     "output_type": "stream",
     "text": [
      "Welcome to the Banking System!\n"
     ]
    },
    {
     "name": "stdin",
     "output_type": "stream",
     "text": [
      "Enter your PIN to login:  1234\n"
     ]
    },
    {
     "name": "stdout",
     "output_type": "stream",
     "text": [
      "Login Successful!\n",
      "\n",
      "Banking Menu:\n",
      "1. Deposit\n",
      "2. Withdraw\n",
      "3. Check Balance\n",
      "4. Exit\n"
     ]
    },
    {
     "name": "stdin",
     "output_type": "stream",
     "text": [
      "Enter your choice:  1\n",
      "Enter amount to deposit:  1000\n"
     ]
    },
    {
     "name": "stdout",
     "output_type": "stream",
     "text": [
      "Amount Deposited: 1000.0. New Balance: 6000.0\n",
      "\n",
      "Banking Menu:\n",
      "1. Deposit\n",
      "2. Withdraw\n",
      "3. Check Balance\n",
      "4. Exit\n"
     ]
    },
    {
     "name": "stdin",
     "output_type": "stream",
     "text": [
      "Enter your choice:  2\n",
      "Enter amount to withdraw:  10\n"
     ]
    },
    {
     "name": "stdout",
     "output_type": "stream",
     "text": [
      "Amount Withdrawn: 10.0. Remaining Balance: 5990.0\n",
      "\n",
      "Banking Menu:\n",
      "1. Deposit\n",
      "2. Withdraw\n",
      "3. Check Balance\n",
      "4. Exit\n"
     ]
    },
    {
     "name": "stdin",
     "output_type": "stream",
     "text": [
      "Enter your choice:  3\n"
     ]
    },
    {
     "name": "stdout",
     "output_type": "stream",
     "text": [
      "Available Balance: 5990.0\n",
      "\n",
      "Banking Menu:\n",
      "1. Deposit\n",
      "2. Withdraw\n",
      "3. Check Balance\n",
      "4. Exit\n"
     ]
    },
    {
     "name": "stdin",
     "output_type": "stream",
     "text": [
      "Enter your choice:  4\n"
     ]
    },
    {
     "name": "stdout",
     "output_type": "stream",
     "text": [
      "Thank you for using the Banking System. Goodbye!\n"
     ]
    }
   ],
   "source": [
    "# Banking System\n",
    "\n",
    "class BankAccount:\n",
    "    def __init__(self, account_number, account_holder, pin, balance=0):\n",
    "        self.account_number = account_number\n",
    "        self.account_holder = account_holder\n",
    "        self.pin = pin\n",
    "        self.balance = balance\n",
    "    def login(self, input_pin):\n",
    "        return self.pin == input_pin\n",
    "    def deposit(self, amount):\n",
    "        if amount > 0:\n",
    "            self.balance += amount\n",
    "            print(f\"Amount Deposited: {amount}. New Balance: {self.balance}\")\n",
    "        else:\n",
    "            print(\"Invalid amount. Deposit failed.\")\n",
    "\n",
    "    def withdraw(self, amount):\n",
    "        if amount > self.balance:\n",
    "            print(\"Insufficient balance. Withdrawal failed.\")\n",
    "        elif amount > 0:\n",
    "            self.balance -= amount\n",
    "            print(f\"Amount Withdrawn: {amount}. Remaining Balance: {self.balance}\")\n",
    "        else:\n",
    "            print(\"Invalid amount. Withdrawal failed.\")\n",
    "    def check_balance(self):\n",
    "        print(f\"Available Balance: {self.balance}\")\n",
    "def main():\n",
    "    # account\n",
    "    account = BankAccount(account_number=\"123456789\", account_holder=\"John Doe\", pin=\"1234\", balance=5000)\n",
    "    print(\"Welcome to the Banking System!\")\n",
    "    attempts = 3  \n",
    "    while attempts > 0:\n",
    "        input_pin = input(\"Enter your PIN to login: \")\n",
    "        if account.login(input_pin):\n",
    "            print(\"Login Successful!\")\n",
    "            break\n",
    "        else:\n",
    "            attempts -= 1\n",
    "            print(f\"Incorrect PIN. Attempts remaining: {attempts}\")\n",
    "    if attempts == 0:\n",
    "        print(\"Too many incorrect attempts. Exiting...\")\n",
    "        return\n",
    "    # Banking menu\n",
    "    while True:\n",
    "        print(\"\\nBanking Menu:\")\n",
    "        print(\"1. Deposit\")\n",
    "        print(\"2. Withdraw\")\n",
    "        print(\"3. Check Balance\")\n",
    "        print(\"4. Exit\")\n",
    "        choice = input(\"Enter your choice: \")\n",
    "        if choice == \"1\":\n",
    "            amount = float(input(\"Enter amount to deposit: \"))\n",
    "            account.deposit(amount)\n",
    "        elif choice == \"2\":\n",
    "            amount = float(input(\"Enter amount to withdraw: \"))\n",
    "            account.withdraw(amount)\n",
    "        elif choice == \"3\":\n",
    "            account.check_balance()\n",
    "        elif choice == \"4\":\n",
    "            print(\"Thank you for using the Banking System. Goodbye!\")\n",
    "            break\n",
    "        else:\n",
    "            print(\"Invalid choice. Please try again.\")\n",
    "if __name__ == \"__main__\":\n",
    "    main()"
   ]
  },
  {
   "cell_type": "code",
   "execution_count": null,
   "id": "9124b7ba-c799-4006-8943-6c1412b3e44a",
   "metadata": {},
   "outputs": [],
   "source": []
  }
 ],
 "metadata": {
  "kernelspec": {
   "display_name": "Python 3 (ipykernel)",
   "language": "python",
   "name": "python3"
  },
  "language_info": {
   "codemirror_mode": {
    "name": "ipython",
    "version": 3
   },
   "file_extension": ".py",
   "mimetype": "text/x-python",
   "name": "python",
   "nbconvert_exporter": "python",
   "pygments_lexer": "ipython3",
   "version": "3.12.4"
  }
 },
 "nbformat": 4,
 "nbformat_minor": 5
}
